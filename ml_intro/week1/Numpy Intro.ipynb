{
 "cells": [
  {
   "cell_type": "code",
   "execution_count": 2,
   "metadata": {
    "collapsed": true
   },
   "outputs": [],
   "source": [
    "import numpy as np"
   ]
  },
  {
   "cell_type": "code",
   "execution_count": 3,
   "metadata": {
    "collapsed": false
   },
   "outputs": [
    {
     "name": "stdout",
     "output_type": "stream",
     "text": [
      "[[ -0.16036636 -16.87583932   8.63338208 ...,   6.43768035  10.60696404\n",
      "    5.27455125]\n",
      " [  2.48333051  -6.92511311  -7.85378384 ...,  -4.00088906  -2.43678542\n",
      "   -2.40374609]\n",
      " [  1.71114158 -11.09035497   3.67298589 ...,  -6.78861916   7.92753171\n",
      "   -6.28502574]\n",
      " ..., \n",
      " [-10.25926057  20.32755192   5.32566032 ...,   0.89753785   5.1475552\n",
      "   -4.76175832]\n",
      " [  4.63738687  -8.71356815  -4.91015308 ...,  -4.6807141  -10.9628004\n",
      "   15.60227578]\n",
      " [ 20.54058444  16.12031209  25.08170465 ...,  -8.9057894   -9.16096907\n",
      "  -13.81695878]]\n"
     ]
    }
   ],
   "source": [
    "X = np.random.normal(loc=1, scale=10, size=(1000, 50))\n",
    "print X"
   ]
  },
  {
   "cell_type": "code",
   "execution_count": 4,
   "metadata": {
    "collapsed": true
   },
   "outputs": [],
   "source": [
    "m=np.mean(X, axis=0)"
   ]
  },
  {
   "cell_type": "code",
   "execution_count": 5,
   "metadata": {
    "collapsed": true
   },
   "outputs": [],
   "source": [
    "std=np.std(X, axis=0)"
   ]
  },
  {
   "cell_type": "code",
   "execution_count": 6,
   "metadata": {
    "collapsed": true
   },
   "outputs": [],
   "source": [
    "X_norm= ((X-m)/std)"
   ]
  },
  {
   "cell_type": "code",
   "execution_count": 7,
   "metadata": {
    "collapsed": false
   },
   "outputs": [
    {
     "name": "stdout",
     "output_type": "stream",
     "text": [
      "[[-0.1030058  -1.83185665  0.75739016 ...,  0.59165368  0.99352962\n",
      "   0.43837887]\n",
      " [ 0.15478426 -0.82493942 -0.90799728 ..., -0.44691136 -0.36099036\n",
      "  -0.34869179]\n",
      " [ 0.07948719 -1.2464216   0.25633488 ..., -0.72427112  0.71528565\n",
      "  -0.74654579]\n",
      " ..., \n",
      " [-1.0877611   1.93276667  0.42327341 ...,  0.04044804  0.42660073\n",
      "  -0.59040192]\n",
      " [ 0.36482888 -1.00591377 -0.61065778 ..., -0.51454922 -1.24636903\n",
      "   1.4970314 ]\n",
      " [ 1.91556878  1.50703469  2.41885398 ..., -0.93491483 -1.05925899\n",
      "  -1.51861324]]\n"
     ]
    }
   ],
   "source": [
    "print X_norm"
   ]
  },
  {
   "cell_type": "code",
   "execution_count": 8,
   "metadata": {
    "collapsed": true
   },
   "outputs": [],
   "source": [
    "Z = np.array([[4, 5, 0], \n",
    "             [1, 9, 3],              \n",
    "             [5, 1, 1],\n",
    "             [3, 3, 3], \n",
    "             [9, 9, 9], \n",
    "             [4, 7, 1]])"
   ]
  },
  {
   "cell_type": "code",
   "execution_count": 9,
   "metadata": {
    "collapsed": true
   },
   "outputs": [],
   "source": [
    "r = np.sum(Z, axis=1)"
   ]
  },
  {
   "cell_type": "code",
   "execution_count": 10,
   "metadata": {
    "collapsed": false
   },
   "outputs": [
    {
     "name": "stdout",
     "output_type": "stream",
     "text": [
      "(array([1, 4, 5]),)\n"
     ]
    }
   ],
   "source": [
    "print np.nonzero(r > 10)"
   ]
  },
  {
   "cell_type": "code",
   "execution_count": 11,
   "metadata": {
    "collapsed": false
   },
   "outputs": [
    {
     "name": "stdout",
     "output_type": "stream",
     "text": [
      "[ 9 13  7  9 27 12]\n"
     ]
    }
   ],
   "source": [
    "print r"
   ]
  },
  {
   "cell_type": "code",
   "execution_count": 13,
   "metadata": {
    "collapsed": false
   },
   "outputs": [
    {
     "name": "stdout",
     "output_type": "stream",
     "text": [
      "[[ 1.  0.  0.]\n",
      " [ 0.  1.  0.]\n",
      " [ 0.  0.  1.]\n",
      " [ 1.  0.  0.]\n",
      " [ 0.  1.  0.]\n",
      " [ 0.  0.  1.]]\n"
     ]
    }
   ],
   "source": [
    "A=np.eye(3)\n",
    "B=np.eye(3)\n",
    "AB=np.vstack((A,B))\n",
    "print AB"
   ]
  },
  {
   "cell_type": "code",
   "execution_count": null,
   "metadata": {
    "collapsed": true
   },
   "outputs": [],
   "source": []
  }
 ],
 "metadata": {
  "kernelspec": {
   "display_name": "Python 2",
   "language": "python",
   "name": "python2"
  },
  "language_info": {
   "codemirror_mode": {
    "name": "ipython",
    "version": 2
   },
   "file_extension": ".py",
   "mimetype": "text/x-python",
   "name": "python",
   "nbconvert_exporter": "python",
   "pygments_lexer": "ipython2",
   "version": "2.7.11"
  }
 },
 "nbformat": 4,
 "nbformat_minor": 0
}
