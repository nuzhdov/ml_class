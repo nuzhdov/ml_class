{
 "cells": [
  {
   "cell_type": "code",
   "execution_count": 6,
   "metadata": {
    "collapsed": true
   },
   "outputs": [
    {
     "name": "stdout",
     "output_type": "stream",
     "text": [
      "[Errno 2] No such file or directory: 'mlad_spec/math_python/week2'\n/opt/ml_class/mlad_spec/math_python/week2\n"
     ]
    }
   ],
   "source": [
    "%cd mlad_spec/math_python/week2"
   ]
  },
  {
   "cell_type": "code",
   "execution_count": 14,
   "metadata": {},
   "outputs": [],
   "source": [
    "import re\n",
    "import numpy as np\n",
    "import pandas as pd\n",
    "import scipy\n",
    "from scipy.spatial.distance import cosine\n",
    "import matplotlib as mp\n",
    "from collections import Counter\n",
    "%matplotlib inline"
   ]
  },
  {
   "cell_type": "code",
   "execution_count": 56,
   "metadata": {},
   "outputs": [
    {
     "name": "stdout",
     "output_type": "stream",
     "text": [
      "0: -2.22044604925e-16\n6: 0.699035367286\n21: 0.783493649054\n16: 0.795875854768\n4: 0.80635083269\n10: 0.815362763531\n20: 0.815362763531\n12: 0.819421220371\n2: 0.846906891076\n13: 0.8509288015\n14: 0.8509288015\n11: 0.863917236512\n8: 0.870900555126\n19: 0.87401184233\n3: 0.882148869802\n7: 0.908712907082\n5: 0.933773382147\n18: 0.935450277563\n15: 0.93845425451\n1: 0.944444444444\n9: 0.944444444444\n17: 0.950492622851\n{0: -2.2204460492503131e-16, 1: 0.94444444444444442, 2: 0.84690689107605133, 3: 0.88214886980224205, 4: 0.80635083268962915, 5: 0.93377338214674777, 6: 0.69903536728557691, 7: 0.90871290708247232, 8: 0.8709005551264194, 9: 0.94444444444444442, 10: 0.8153627635310009, 11: 0.86391723651204566, 12: 0.81942122037134613, 13: 0.85092880150001404, 14: 0.85092880150001404, 15: 0.9384542545103336, 16: 0.79587585476806855, 17: 0.95049262285116631, 18: 0.93545027756320975, 19: 0.87401184233025764, 20: 0.8153627635310009, 21: 0.7834936490538903}\n['0', '6', '21', '16', '4', '10', '20', '12', '2', '13', '14', '11', '8', '19', '3', '7', '5', '18', '15', '1', '9', '17']\n"
     ]
    }
   ],
   "source": [
    "f = open('sentences.txt', 'r')\n",
    "text = f.read().lower()\n",
    "sentences = filter(None, text.split('\\n'))\n",
    "allWords = filter(None, re.split('[^a-z]', text))\n",
    "regex = re.compile('[^a-zA-Z]')\n",
    "allWords = map(lambda w: regex.sub('', w), allWords)\n",
    "uniqueWords = dict.fromkeys(set(allWords), 0)\n",
    "\n",
    "i = 0\n",
    "for word in uniqueWords:\n",
    "    uniqueWords[word] = i\n",
    "    i += 1\n",
    "    \n",
    "matrix = []\n",
    "for sentence in sentences:\n",
    "    row = []\n",
    "    counts = Counter(sentence.split())\n",
    "    for word in uniqueWords:\n",
    "        row.append(counts[word])\n",
    "    matrix.append(row)\n",
    "\n",
    "firstLine = matrix[0]\n",
    "cosDistances = {}\n",
    "i = 0\n",
    "for vector in matrix:\n",
    "    cosDistances[i] = cosine(firstLine, vector)\n",
    "    i+=1\n",
    "result = []\n",
    "for key, value in sorted(cosDistances.iteritems(), key=lambda (k,v): (v,k)):\n",
    "    result.append(str(key))\n",
    "    print '%s: %s' % (key, value)\n",
    "print cosDistances\n",
    "print result\n",
    "af = open('answer', 'w')\n",
    "af.write(\" \".join(result[0:2]))\n",
    "af.close()"
   ]
  },
  {
   "cell_type": "code",
   "execution_count": null,
   "metadata": {},
   "outputs": [],
   "source": [
    ""
   ]
  }
 ],
 "metadata": {
  "kernelspec": {
   "display_name": "Python 2",
   "language": "python",
   "name": "python2"
  },
  "language_info": {
   "codemirror_mode": {
    "name": "ipython",
    "version": 2.0
   },
   "file_extension": ".py",
   "mimetype": "text/x-python",
   "name": "python",
   "nbconvert_exporter": "python",
   "pygments_lexer": "ipython2",
   "version": "2.7.6"
  }
 },
 "nbformat": 4,
 "nbformat_minor": 0
}